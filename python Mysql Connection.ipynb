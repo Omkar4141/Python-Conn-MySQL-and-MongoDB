{
 "cells": [
  {
   "cell_type": "code",
   "execution_count": 16,
   "id": "93490779",
   "metadata": {},
   "outputs": [
    {
     "name": "stdout",
     "output_type": "stream",
     "text": [
      "Connected\n"
     ]
    }
   ],
   "source": [
    "import mysql.connector\n",
    "\n",
    "\n",
    "try:\n",
    "    mydb = mysql.connector.connect(host=\"localhost\",user=\"root\",password=\"Omkar@4141\",database=\"om1\")\n",
    "    print(\"Connected\")\n",
    "except:\n",
    "    print(\"unable to connect\")\n",
    "    "
   ]
  },
  {
   "cell_type": "code",
   "execution_count": 17,
   "id": "09ffb8d8",
   "metadata": {},
   "outputs": [],
   "source": [
    "cursor = mydb.cursor()\n",
    "create_table_query = \"\"\"\n",
    "CREATE TABLE IF NOT EXISTS users (\n",
    "    id INT AUTO_INCREMENT PRIMARY KEY,\n",
    "    username VARCHAR(255) NOT NULL,\n",
    "    email VARCHAR(255) NOT NULL\n",
    ")\n",
    "\"\"\"\n",
    "cursor.execute(create_table_query)\n",
    "\n",
    "# Insert data into the table\n",
    "insert_query = \"INSERT INTO users (username, email) VALUES (%s, %s)\"\n",
    "data = (\"john_doe\", \"john@example.com\")\n",
    "\n",
    "cursor.execute(insert_query, data)\n",
    "mydb.commit()"
   ]
  },
  {
   "cell_type": "code",
   "execution_count": 18,
   "id": "b6880ab9",
   "metadata": {},
   "outputs": [
    {
     "name": "stdout",
     "output_type": "stream",
     "text": [
      "('t1',)\n",
      "('users',)\n"
     ]
    }
   ],
   "source": [
    "cursor.execute(\"SHOW TABLES\")\n",
    "for x in cursor:\n",
    "    print(x)"
   ]
  },
  {
   "cell_type": "code",
   "execution_count": null,
   "id": "b63dcf1f",
   "metadata": {},
   "outputs": [],
   "source": []
  }
 ],
 "metadata": {
  "kernelspec": {
   "display_name": "Python 3 (ipykernel)",
   "language": "python",
   "name": "python3"
  },
  "language_info": {
   "codemirror_mode": {
    "name": "ipython",
    "version": 3
   },
   "file_extension": ".py",
   "mimetype": "text/x-python",
   "name": "python",
   "nbconvert_exporter": "python",
   "pygments_lexer": "ipython3",
   "version": "3.10.9"
  }
 },
 "nbformat": 4,
 "nbformat_minor": 5
}
